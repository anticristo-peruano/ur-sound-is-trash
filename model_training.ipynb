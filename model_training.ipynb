{
  "cells": [
    {
      "cell_type": "markdown",
      "metadata": {
        "id": "lbtEr9mTJRvE"
      },
      "source": [
        "# 0. Librerías"
      ]
    },
    {
      "cell_type": "code",
      "execution_count": 2,
      "metadata": {
        "id": "-SEAmBKb-d_w"
      },
      "outputs": [],
      "source": [
        "import numpy as np\n",
        "import tensorflow as tf\n",
        "from tensorflow.keras.models import Sequential\n",
        "from tensorflow.keras.layers import Conv1D, MaxPooling1D, Dropout, Flatten, Dense, Reshape\n",
        "from tensorflow.keras.optimizers import Adam\n",
        "import matplotlib.pyplot as plt\n",
        "from sklearn.metrics import confusion_matrix, ConfusionMatrixDisplay"
      ]
    },
    {
      "cell_type": "markdown",
      "metadata": {
        "id": "1FjStZdCJbQr"
      },
      "source": [
        "# 1. Preparación de datos (ya preprocesados) y de parámetros"
      ]
    },
    {
      "cell_type": "code",
      "execution_count": 29,
      "metadata": {
        "id": "GVnI-OkKCQd_"
      },
      "outputs": [],
      "source": [
        "X_train, X_test = np.load('x_training.npy'), np.load('x_testing.npy')\n",
        "y_train, y_test = np.load('y_training.npy')[:,0] - 1, np.load('y_testing.npy')[:,0] - 1\n",
        "\n",
        "\"\"\"\n",
        "0 = Bottle\n",
        "1 = Can\n",
        "2 = Noise\n",
        "3 = Paper\n",
        "4 = Ping-pong\n",
        "\"\"\"\n",
        "\n",
        "INPUT_LENGTH = 4018\n",
        "NUM_CLASSES = 5\n",
        "LEARNING_RATE = 0.005"
      ]
    },
    {
      "cell_type": "markdown",
      "metadata": {
        "id": "0OGNjH_mJk0v"
      },
      "source": [
        "# 2. Architectura del modelo y entrenamiento"
      ]
    },
    {
      "cell_type": "code",
      "execution_count": 18,
      "metadata": {
        "colab": {
          "base_uri": "https://localhost:8080/",
          "height": 498
        },
        "id": "HLvGg3W3Bkkp",
        "outputId": "5436a2be-2328-4d37-f9f9-c5af0f82e991"
      },
      "outputs": [
        {
          "name": "stderr",
          "output_type": "stream",
          "text": [
            "/usr/local/lib/python3.11/dist-packages/keras/src/layers/reshaping/reshape.py:39: UserWarning: Do not pass an `input_shape`/`input_dim` argument to a layer. When using Sequential models, prefer using an `Input(shape)` object as the first layer in the model instead.\n",
            "  super().__init__(**kwargs)\n"
          ]
        },
        {
          "data": {
            "text/html": [
              "<pre style=\"white-space:pre;overflow-x:auto;line-height:normal;font-family:Menlo,'DejaVu Sans Mono',consolas,'Courier New',monospace\"><span style=\"font-weight: bold\">Model: \"sequential_3\"</span>\n",
              "</pre>\n"
            ],
            "text/plain": [
              "\u001b[1mModel: \"sequential_3\"\u001b[0m\n"
            ]
          },
          "metadata": {},
          "output_type": "display_data"
        },
        {
          "data": {
            "text/html": [
              "<pre style=\"white-space:pre;overflow-x:auto;line-height:normal;font-family:Menlo,'DejaVu Sans Mono',consolas,'Courier New',monospace\">┏━━━━━━━━━━━━━━━━━━━━━━━━━━━━━━━━━┳━━━━━━━━━━━━━━━━━━━━━━━━┳━━━━━━━━━━━━━━━┓\n",
              "┃<span style=\"font-weight: bold\"> Layer (type)                    </span>┃<span style=\"font-weight: bold\"> Output Shape           </span>┃<span style=\"font-weight: bold\">       Param # </span>┃\n",
              "┡━━━━━━━━━━━━━━━━━━━━━━━━━━━━━━━━━╇━━━━━━━━━━━━━━━━━━━━━━━━╇━━━━━━━━━━━━━━━┩\n",
              "│ reshape_3 (<span style=\"color: #0087ff; text-decoration-color: #0087ff\">Reshape</span>)             │ (<span style=\"color: #00d7ff; text-decoration-color: #00d7ff\">None</span>, <span style=\"color: #00af00; text-decoration-color: #00af00\">98</span>, <span style=\"color: #00af00; text-decoration-color: #00af00\">41</span>)         │             <span style=\"color: #00af00; text-decoration-color: #00af00\">0</span> │\n",
              "├─────────────────────────────────┼────────────────────────┼───────────────┤\n",
              "│ conv1d_6 (<span style=\"color: #0087ff; text-decoration-color: #0087ff\">Conv1D</span>)               │ (<span style=\"color: #00d7ff; text-decoration-color: #00d7ff\">None</span>, <span style=\"color: #00af00; text-decoration-color: #00af00\">98</span>, <span style=\"color: #00af00; text-decoration-color: #00af00\">8</span>)          │           <span style=\"color: #00af00; text-decoration-color: #00af00\">992</span> │\n",
              "├─────────────────────────────────┼────────────────────────┼───────────────┤\n",
              "│ max_pooling1d_6 (<span style=\"color: #0087ff; text-decoration-color: #0087ff\">MaxPooling1D</span>)  │ (<span style=\"color: #00d7ff; text-decoration-color: #00d7ff\">None</span>, <span style=\"color: #00af00; text-decoration-color: #00af00\">49</span>, <span style=\"color: #00af00; text-decoration-color: #00af00\">8</span>)          │             <span style=\"color: #00af00; text-decoration-color: #00af00\">0</span> │\n",
              "├─────────────────────────────────┼────────────────────────┼───────────────┤\n",
              "│ dropout_6 (<span style=\"color: #0087ff; text-decoration-color: #0087ff\">Dropout</span>)             │ (<span style=\"color: #00d7ff; text-decoration-color: #00d7ff\">None</span>, <span style=\"color: #00af00; text-decoration-color: #00af00\">49</span>, <span style=\"color: #00af00; text-decoration-color: #00af00\">8</span>)          │             <span style=\"color: #00af00; text-decoration-color: #00af00\">0</span> │\n",
              "├─────────────────────────────────┼────────────────────────┼───────────────┤\n",
              "│ conv1d_7 (<span style=\"color: #0087ff; text-decoration-color: #0087ff\">Conv1D</span>)               │ (<span style=\"color: #00d7ff; text-decoration-color: #00d7ff\">None</span>, <span style=\"color: #00af00; text-decoration-color: #00af00\">49</span>, <span style=\"color: #00af00; text-decoration-color: #00af00\">16</span>)         │           <span style=\"color: #00af00; text-decoration-color: #00af00\">400</span> │\n",
              "├─────────────────────────────────┼────────────────────────┼───────────────┤\n",
              "│ max_pooling1d_7 (<span style=\"color: #0087ff; text-decoration-color: #0087ff\">MaxPooling1D</span>)  │ (<span style=\"color: #00d7ff; text-decoration-color: #00d7ff\">None</span>, <span style=\"color: #00af00; text-decoration-color: #00af00\">25</span>, <span style=\"color: #00af00; text-decoration-color: #00af00\">16</span>)         │             <span style=\"color: #00af00; text-decoration-color: #00af00\">0</span> │\n",
              "├─────────────────────────────────┼────────────────────────┼───────────────┤\n",
              "│ dropout_7 (<span style=\"color: #0087ff; text-decoration-color: #0087ff\">Dropout</span>)             │ (<span style=\"color: #00d7ff; text-decoration-color: #00d7ff\">None</span>, <span style=\"color: #00af00; text-decoration-color: #00af00\">25</span>, <span style=\"color: #00af00; text-decoration-color: #00af00\">16</span>)         │             <span style=\"color: #00af00; text-decoration-color: #00af00\">0</span> │\n",
              "├─────────────────────────────────┼────────────────────────┼───────────────┤\n",
              "│ flatten_3 (<span style=\"color: #0087ff; text-decoration-color: #0087ff\">Flatten</span>)             │ (<span style=\"color: #00d7ff; text-decoration-color: #00d7ff\">None</span>, <span style=\"color: #00af00; text-decoration-color: #00af00\">400</span>)            │             <span style=\"color: #00af00; text-decoration-color: #00af00\">0</span> │\n",
              "├─────────────────────────────────┼────────────────────────┼───────────────┤\n",
              "│ y_pred (<span style=\"color: #0087ff; text-decoration-color: #0087ff\">Dense</span>)                  │ (<span style=\"color: #00d7ff; text-decoration-color: #00d7ff\">None</span>, <span style=\"color: #00af00; text-decoration-color: #00af00\">5</span>)              │         <span style=\"color: #00af00; text-decoration-color: #00af00\">2,005</span> │\n",
              "└─────────────────────────────────┴────────────────────────┴───────────────┘\n",
              "</pre>\n"
            ],
            "text/plain": [
              "┏━━━━━━━━━━━━━━━━━━━━━━━━━━━━━━━━━┳━━━━━━━━━━━━━━━━━━━━━━━━┳━━━━━━━━━━━━━━━┓\n",
              "┃\u001b[1m \u001b[0m\u001b[1mLayer (type)                   \u001b[0m\u001b[1m \u001b[0m┃\u001b[1m \u001b[0m\u001b[1mOutput Shape          \u001b[0m\u001b[1m \u001b[0m┃\u001b[1m \u001b[0m\u001b[1m      Param #\u001b[0m\u001b[1m \u001b[0m┃\n",
              "┡━━━━━━━━━━━━━━━━━━━━━━━━━━━━━━━━━╇━━━━━━━━━━━━━━━━━━━━━━━━╇━━━━━━━━━━━━━━━┩\n",
              "│ reshape_3 (\u001b[38;5;33mReshape\u001b[0m)             │ (\u001b[38;5;45mNone\u001b[0m, \u001b[38;5;34m98\u001b[0m, \u001b[38;5;34m41\u001b[0m)         │             \u001b[38;5;34m0\u001b[0m │\n",
              "├─────────────────────────────────┼────────────────────────┼───────────────┤\n",
              "│ conv1d_6 (\u001b[38;5;33mConv1D\u001b[0m)               │ (\u001b[38;5;45mNone\u001b[0m, \u001b[38;5;34m98\u001b[0m, \u001b[38;5;34m8\u001b[0m)          │           \u001b[38;5;34m992\u001b[0m │\n",
              "├─────────────────────────────────┼────────────────────────┼───────────────┤\n",
              "│ max_pooling1d_6 (\u001b[38;5;33mMaxPooling1D\u001b[0m)  │ (\u001b[38;5;45mNone\u001b[0m, \u001b[38;5;34m49\u001b[0m, \u001b[38;5;34m8\u001b[0m)          │             \u001b[38;5;34m0\u001b[0m │\n",
              "├─────────────────────────────────┼────────────────────────┼───────────────┤\n",
              "│ dropout_6 (\u001b[38;5;33mDropout\u001b[0m)             │ (\u001b[38;5;45mNone\u001b[0m, \u001b[38;5;34m49\u001b[0m, \u001b[38;5;34m8\u001b[0m)          │             \u001b[38;5;34m0\u001b[0m │\n",
              "├─────────────────────────────────┼────────────────────────┼───────────────┤\n",
              "│ conv1d_7 (\u001b[38;5;33mConv1D\u001b[0m)               │ (\u001b[38;5;45mNone\u001b[0m, \u001b[38;5;34m49\u001b[0m, \u001b[38;5;34m16\u001b[0m)         │           \u001b[38;5;34m400\u001b[0m │\n",
              "├─────────────────────────────────┼────────────────────────┼───────────────┤\n",
              "│ max_pooling1d_7 (\u001b[38;5;33mMaxPooling1D\u001b[0m)  │ (\u001b[38;5;45mNone\u001b[0m, \u001b[38;5;34m25\u001b[0m, \u001b[38;5;34m16\u001b[0m)         │             \u001b[38;5;34m0\u001b[0m │\n",
              "├─────────────────────────────────┼────────────────────────┼───────────────┤\n",
              "│ dropout_7 (\u001b[38;5;33mDropout\u001b[0m)             │ (\u001b[38;5;45mNone\u001b[0m, \u001b[38;5;34m25\u001b[0m, \u001b[38;5;34m16\u001b[0m)         │             \u001b[38;5;34m0\u001b[0m │\n",
              "├─────────────────────────────────┼────────────────────────┼───────────────┤\n",
              "│ flatten_3 (\u001b[38;5;33mFlatten\u001b[0m)             │ (\u001b[38;5;45mNone\u001b[0m, \u001b[38;5;34m400\u001b[0m)            │             \u001b[38;5;34m0\u001b[0m │\n",
              "├─────────────────────────────────┼────────────────────────┼───────────────┤\n",
              "│ y_pred (\u001b[38;5;33mDense\u001b[0m)                  │ (\u001b[38;5;45mNone\u001b[0m, \u001b[38;5;34m5\u001b[0m)              │         \u001b[38;5;34m2,005\u001b[0m │\n",
              "└─────────────────────────────────┴────────────────────────┴───────────────┘\n"
            ]
          },
          "metadata": {},
          "output_type": "display_data"
        },
        {
          "data": {
            "text/html": [
              "<pre style=\"white-space:pre;overflow-x:auto;line-height:normal;font-family:Menlo,'DejaVu Sans Mono',consolas,'Courier New',monospace\"><span style=\"font-weight: bold\"> Total params: </span><span style=\"color: #00af00; text-decoration-color: #00af00\">3,397</span> (13.27 KB)\n",
              "</pre>\n"
            ],
            "text/plain": [
              "\u001b[1m Total params: \u001b[0m\u001b[38;5;34m3,397\u001b[0m (13.27 KB)\n"
            ]
          },
          "metadata": {},
          "output_type": "display_data"
        },
        {
          "data": {
            "text/html": [
              "<pre style=\"white-space:pre;overflow-x:auto;line-height:normal;font-family:Menlo,'DejaVu Sans Mono',consolas,'Courier New',monospace\"><span style=\"font-weight: bold\"> Trainable params: </span><span style=\"color: #00af00; text-decoration-color: #00af00\">3,397</span> (13.27 KB)\n",
              "</pre>\n"
            ],
            "text/plain": [
              "\u001b[1m Trainable params: \u001b[0m\u001b[38;5;34m3,397\u001b[0m (13.27 KB)\n"
            ]
          },
          "metadata": {},
          "output_type": "display_data"
        },
        {
          "data": {
            "text/html": [
              "<pre style=\"white-space:pre;overflow-x:auto;line-height:normal;font-family:Menlo,'DejaVu Sans Mono',consolas,'Courier New',monospace\"><span style=\"font-weight: bold\"> Non-trainable params: </span><span style=\"color: #00af00; text-decoration-color: #00af00\">0</span> (0.00 B)\n",
              "</pre>\n"
            ],
            "text/plain": [
              "\u001b[1m Non-trainable params: \u001b[0m\u001b[38;5;34m0\u001b[0m (0.00 B)\n"
            ]
          },
          "metadata": {},
          "output_type": "display_data"
        }
      ],
      "source": [
        "model = Sequential([\n",
        "    Reshape((98, 41), input_shape=(INPUT_LENGTH,)),\n",
        "    Conv1D(8, kernel_size=3, padding='same', activation='relu'),\n",
        "    MaxPooling1D(pool_size=2, strides=2, padding='same'),\n",
        "    Dropout(0.25),\n",
        "    Conv1D(16, kernel_size=3, padding='same', activation='relu'),\n",
        "    MaxPooling1D(pool_size=2, strides=2, padding='same'),\n",
        "    Dropout(0.25),\n",
        "    Flatten(),\n",
        "    Dense(NUM_CLASSES, activation='softmax', name='y_pred')\n",
        "])\n",
        "\n",
        "model.compile(\n",
        "    optimizer=Adam(learning_rate=LEARNING_RATE),\n",
        "    loss='sparse_categorical_crossentropy',\n",
        "    metrics=['accuracy']\n",
        ")\n",
        "\n",
        "model.summary()"
      ]
    },
    {
      "cell_type": "code",
      "execution_count": 25,
      "metadata": {
        "colab": {
          "base_uri": "https://localhost:8080/"
        },
        "id": "hMyYm6xvB4kR",
        "outputId": "7e2823af-0102-4ae9-c521-92dc72a1feb5"
      },
      "outputs": [
        {
          "name": "stdout",
          "output_type": "stream",
          "text": [
            "Epoch 1/100\n",
            "7/7 - 0s - 10ms/step - accuracy: 0.8136 - loss: 0.7794\n",
            "Epoch 2/100\n",
            "7/7 - 0s - 18ms/step - accuracy: 0.8136 - loss: 0.4567\n",
            "Epoch 3/100\n",
            "7/7 - 0s - 20ms/step - accuracy: 0.8409 - loss: 0.3613\n",
            "Epoch 4/100\n",
            "7/7 - 0s - 21ms/step - accuracy: 0.9136 - loss: 0.2502\n",
            "Epoch 5/100\n",
            "7/7 - 0s - 20ms/step - accuracy: 0.9409 - loss: 0.1897\n",
            "Epoch 6/100\n",
            "7/7 - 0s - 9ms/step - accuracy: 0.9273 - loss: 0.1853\n",
            "Epoch 7/100\n",
            "7/7 - 0s - 9ms/step - accuracy: 0.9545 - loss: 0.1761\n",
            "Epoch 8/100\n",
            "7/7 - 0s - 20ms/step - accuracy: 0.9636 - loss: 0.1597\n",
            "Epoch 9/100\n",
            "7/7 - 0s - 10ms/step - accuracy: 0.9455 - loss: 0.1777\n",
            "Epoch 10/100\n",
            "7/7 - 0s - 20ms/step - accuracy: 0.9636 - loss: 0.1318\n",
            "Epoch 11/100\n",
            "7/7 - 0s - 21ms/step - accuracy: 0.9545 - loss: 0.1369\n",
            "Epoch 12/100\n",
            "7/7 - 0s - 9ms/step - accuracy: 0.9636 - loss: 0.1100\n",
            "Epoch 13/100\n",
            "7/7 - 0s - 10ms/step - accuracy: 0.9682 - loss: 0.1209\n",
            "Epoch 14/100\n",
            "7/7 - 0s - 20ms/step - accuracy: 0.9818 - loss: 0.0992\n",
            "Epoch 15/100\n",
            "7/7 - 0s - 19ms/step - accuracy: 0.9773 - loss: 0.1047\n",
            "Epoch 16/100\n",
            "7/7 - 0s - 9ms/step - accuracy: 0.9591 - loss: 0.1148\n",
            "Epoch 17/100\n",
            "7/7 - 0s - 11ms/step - accuracy: 0.9818 - loss: 0.0890\n",
            "Epoch 18/100\n",
            "7/7 - 0s - 18ms/step - accuracy: 0.9773 - loss: 0.1097\n",
            "Epoch 19/100\n",
            "7/7 - 0s - 11ms/step - accuracy: 0.9818 - loss: 0.0874\n",
            "Epoch 20/100\n",
            "7/7 - 0s - 18ms/step - accuracy: 0.9818 - loss: 0.0865\n",
            "Epoch 21/100\n",
            "7/7 - 0s - 20ms/step - accuracy: 0.9955 - loss: 0.0631\n",
            "Epoch 22/100\n",
            "7/7 - 0s - 19ms/step - accuracy: 0.9636 - loss: 0.1069\n",
            "Epoch 23/100\n",
            "7/7 - 0s - 10ms/step - accuracy: 0.9864 - loss: 0.0549\n",
            "Epoch 24/100\n",
            "7/7 - 0s - 9ms/step - accuracy: 0.9773 - loss: 0.0737\n",
            "Epoch 25/100\n",
            "7/7 - 0s - 9ms/step - accuracy: 0.9773 - loss: 0.0926\n",
            "Epoch 26/100\n",
            "7/7 - 0s - 21ms/step - accuracy: 0.9864 - loss: 0.0599\n",
            "Epoch 27/100\n",
            "7/7 - 0s - 9ms/step - accuracy: 0.9909 - loss: 0.0551\n",
            "Epoch 28/100\n",
            "7/7 - 0s - 9ms/step - accuracy: 0.9818 - loss: 0.0586\n",
            "Epoch 29/100\n",
            "7/7 - 0s - 20ms/step - accuracy: 0.9682 - loss: 0.0839\n",
            "Epoch 30/100\n",
            "7/7 - 0s - 10ms/step - accuracy: 0.9773 - loss: 0.0714\n",
            "Epoch 31/100\n",
            "7/7 - 0s - 9ms/step - accuracy: 0.9727 - loss: 0.0770\n",
            "Epoch 32/100\n",
            "7/7 - 0s - 9ms/step - accuracy: 0.9818 - loss: 0.0725\n",
            "Epoch 33/100\n",
            "7/7 - 0s - 9ms/step - accuracy: 0.9955 - loss: 0.0527\n",
            "Epoch 34/100\n",
            "7/7 - 0s - 14ms/step - accuracy: 0.9864 - loss: 0.0556\n",
            "Epoch 35/100\n",
            "7/7 - 0s - 18ms/step - accuracy: 0.9909 - loss: 0.0451\n",
            "Epoch 36/100\n",
            "7/7 - 0s - 10ms/step - accuracy: 0.9909 - loss: 0.0468\n",
            "Epoch 37/100\n",
            "7/7 - 0s - 10ms/step - accuracy: 0.9818 - loss: 0.0589\n",
            "Epoch 38/100\n",
            "7/7 - 0s - 21ms/step - accuracy: 0.9773 - loss: 0.0578\n",
            "Epoch 39/100\n",
            "7/7 - 0s - 9ms/step - accuracy: 0.9818 - loss: 0.0600\n",
            "Epoch 40/100\n",
            "7/7 - 0s - 20ms/step - accuracy: 0.9955 - loss: 0.0433\n",
            "Epoch 41/100\n",
            "7/7 - 0s - 11ms/step - accuracy: 0.9818 - loss: 0.0562\n",
            "Epoch 42/100\n",
            "7/7 - 0s - 9ms/step - accuracy: 0.9864 - loss: 0.0523\n",
            "Epoch 43/100\n",
            "7/7 - 0s - 20ms/step - accuracy: 0.9909 - loss: 0.0352\n",
            "Epoch 44/100\n",
            "7/7 - 0s - 9ms/step - accuracy: 0.9864 - loss: 0.0549\n",
            "Epoch 45/100\n",
            "7/7 - 0s - 10ms/step - accuracy: 1.0000 - loss: 0.0249\n",
            "Epoch 46/100\n",
            "7/7 - 0s - 10ms/step - accuracy: 0.9955 - loss: 0.0362\n",
            "Epoch 47/100\n",
            "7/7 - 0s - 19ms/step - accuracy: 1.0000 - loss: 0.0302\n",
            "Epoch 48/100\n",
            "7/7 - 0s - 13ms/step - accuracy: 0.9864 - loss: 0.0458\n",
            "Epoch 49/100\n",
            "7/7 - 0s - 16ms/step - accuracy: 0.9864 - loss: 0.0682\n",
            "Epoch 50/100\n",
            "7/7 - 0s - 20ms/step - accuracy: 0.9909 - loss: 0.0333\n",
            "Epoch 51/100\n",
            "7/7 - 0s - 9ms/step - accuracy: 0.9955 - loss: 0.0291\n",
            "Epoch 52/100\n",
            "7/7 - 0s - 19ms/step - accuracy: 0.9909 - loss: 0.0428\n",
            "Epoch 53/100\n",
            "7/7 - 0s - 8ms/step - accuracy: 0.9909 - loss: 0.0379\n",
            "Epoch 54/100\n",
            "7/7 - 0s - 10ms/step - accuracy: 0.9955 - loss: 0.0383\n",
            "Epoch 55/100\n",
            "7/7 - 0s - 9ms/step - accuracy: 0.9955 - loss: 0.0374\n",
            "Epoch 56/100\n",
            "7/7 - 0s - 9ms/step - accuracy: 0.9955 - loss: 0.0218\n",
            "Epoch 57/100\n",
            "7/7 - 0s - 9ms/step - accuracy: 0.9864 - loss: 0.0320\n",
            "Epoch 58/100\n",
            "7/7 - 0s - 9ms/step - accuracy: 0.9955 - loss: 0.0267\n",
            "Epoch 59/100\n",
            "7/7 - 0s - 9ms/step - accuracy: 1.0000 - loss: 0.0274\n",
            "Epoch 60/100\n",
            "7/7 - 0s - 10ms/step - accuracy: 0.9955 - loss: 0.0213\n",
            "Epoch 61/100\n",
            "7/7 - 0s - 10ms/step - accuracy: 1.0000 - loss: 0.0196\n",
            "Epoch 62/100\n",
            "7/7 - 0s - 20ms/step - accuracy: 0.9909 - loss: 0.0248\n",
            "Epoch 63/100\n",
            "7/7 - 0s - 9ms/step - accuracy: 0.9955 - loss: 0.0318\n",
            "Epoch 64/100\n",
            "7/7 - 0s - 9ms/step - accuracy: 0.9909 - loss: 0.0327\n",
            "Epoch 65/100\n",
            "7/7 - 0s - 19ms/step - accuracy: 0.9955 - loss: 0.0260\n",
            "Epoch 66/100\n",
            "7/7 - 0s - 9ms/step - accuracy: 1.0000 - loss: 0.0143\n",
            "Epoch 67/100\n",
            "7/7 - 0s - 10ms/step - accuracy: 0.9955 - loss: 0.0232\n",
            "Epoch 68/100\n",
            "7/7 - 0s - 20ms/step - accuracy: 0.9864 - loss: 0.0520\n",
            "Epoch 69/100\n",
            "7/7 - 0s - 8ms/step - accuracy: 0.9818 - loss: 0.0457\n",
            "Epoch 70/100\n",
            "7/7 - 0s - 9ms/step - accuracy: 1.0000 - loss: 0.0208\n",
            "Epoch 71/100\n",
            "7/7 - 0s - 9ms/step - accuracy: 1.0000 - loss: 0.0130\n",
            "Epoch 72/100\n",
            "7/7 - 0s - 19ms/step - accuracy: 0.9864 - loss: 0.0403\n",
            "Epoch 73/100\n",
            "7/7 - 0s - 9ms/step - accuracy: 0.9909 - loss: 0.0328\n",
            "Epoch 74/100\n",
            "7/7 - 0s - 9ms/step - accuracy: 1.0000 - loss: 0.0196\n",
            "Epoch 75/100\n",
            "7/7 - 0s - 12ms/step - accuracy: 0.9955 - loss: 0.0227\n",
            "Epoch 76/100\n",
            "7/7 - 0s - 15ms/step - accuracy: 0.9818 - loss: 0.0445\n",
            "Epoch 77/100\n",
            "7/7 - 0s - 15ms/step - accuracy: 0.9909 - loss: 0.0337\n",
            "Epoch 78/100\n",
            "7/7 - 0s - 25ms/step - accuracy: 0.9909 - loss: 0.0325\n",
            "Epoch 79/100\n",
            "7/7 - 0s - 14ms/step - accuracy: 1.0000 - loss: 0.0188\n",
            "Epoch 80/100\n",
            "7/7 - 0s - 21ms/step - accuracy: 0.9955 - loss: 0.0205\n",
            "Epoch 81/100\n",
            "7/7 - 0s - 19ms/step - accuracy: 0.9955 - loss: 0.0217\n",
            "Epoch 82/100\n",
            "7/7 - 0s - 15ms/step - accuracy: 0.9955 - loss: 0.0233\n",
            "Epoch 83/100\n",
            "7/7 - 0s - 18ms/step - accuracy: 1.0000 - loss: 0.0177\n",
            "Epoch 84/100\n",
            "7/7 - 0s - 17ms/step - accuracy: 1.0000 - loss: 0.0174\n",
            "Epoch 85/100\n",
            "7/7 - 0s - 20ms/step - accuracy: 0.9955 - loss: 0.0236\n",
            "Epoch 86/100\n",
            "7/7 - 0s - 14ms/step - accuracy: 0.9955 - loss: 0.0220\n",
            "Epoch 87/100\n",
            "7/7 - 0s - 17ms/step - accuracy: 0.9909 - loss: 0.0292\n",
            "Epoch 88/100\n",
            "7/7 - 0s - 9ms/step - accuracy: 0.9955 - loss: 0.0234\n",
            "Epoch 89/100\n",
            "7/7 - 0s - 24ms/step - accuracy: 0.9909 - loss: 0.0378\n",
            "Epoch 90/100\n",
            "7/7 - 0s - 18ms/step - accuracy: 0.9955 - loss: 0.0300\n",
            "Epoch 91/100\n",
            "7/7 - 0s - 19ms/step - accuracy: 0.9955 - loss: 0.0227\n",
            "Epoch 92/100\n",
            "7/7 - 0s - 10ms/step - accuracy: 0.9955 - loss: 0.0215\n",
            "Epoch 93/100\n",
            "7/7 - 0s - 11ms/step - accuracy: 1.0000 - loss: 0.0113\n",
            "Epoch 94/100\n",
            "7/7 - 0s - 10ms/step - accuracy: 1.0000 - loss: 0.0172\n",
            "Epoch 95/100\n",
            "7/7 - 0s - 9ms/step - accuracy: 1.0000 - loss: 0.0138\n",
            "Epoch 96/100\n",
            "7/7 - 0s - 9ms/step - accuracy: 1.0000 - loss: 0.0172\n",
            "Epoch 97/100\n",
            "7/7 - 0s - 9ms/step - accuracy: 1.0000 - loss: 0.0196\n",
            "Epoch 98/100\n",
            "7/7 - 0s - 19ms/step - accuracy: 1.0000 - loss: 0.0155\n",
            "Epoch 99/100\n",
            "7/7 - 0s - 21ms/step - accuracy: 1.0000 - loss: 0.0127\n",
            "Epoch 100/100\n",
            "7/7 - 0s - 11ms/step - accuracy: 0.9955 - loss: 0.0216\n"
          ]
        }
      ],
      "source": [
        "history = model.fit(X_train,y_train, epochs=100, batch_size=32, verbose=2)"
      ]
    },
    {
      "cell_type": "code",
      "execution_count": 28,
      "metadata": {
        "colab": {
          "base_uri": "https://localhost:8080/",
          "height": 472
        },
        "id": "DOnbbEP3FeB6",
        "outputId": "dc06bee0-9910-4372-87f9-7c6342448a50"
      },
      "outputs": [
        {
          "data": {
            "image/png": "[encoded data removed]",
            "text/plain": [
              "<Figure size 640x480 with 1 Axes>"
            ]
          },
          "metadata": {},
          "output_type": "display_data"
        }
      ],
      "source": [
        "plt.plot(history.history['loss'], label='train_loss')\n",
        "plt.xlabel('Epoch')\n",
        "plt.ylabel('Loss')\n",
        "plt.legend()\n",
        "plt.title('Pérdida de entrenamiento y validación')\n",
        "plt.grid(True)\n",
        "plt.show()"
      ]
    },
    {
      "cell_type": "code",
      "execution_count": 23,
      "metadata": {
        "colab": {
          "base_uri": "https://localhost:8080/"
        },
        "id": "fmZQ3kHJH9TV",
        "outputId": "12360ef9-2ee4-4cf2-8a82-2efa1eba1691"
      },
      "outputs": [
        {
          "name": "stdout",
          "output_type": "stream",
          "text": [
            "\u001b[1m7/7\u001b[0m \u001b[32m━━━━━━━━━━━━━━━━━━━━\u001b[0m\u001b[37m\u001b[0m \u001b[1m0s\u001b[0m 5ms/step \n"
          ]
        },
        {
          "data": {
            "text/plain": [
              "(220, 5)"
            ]
          },
          "execution_count": 23,
          "metadata": {},
          "output_type": "execute_result"
        }
      ],
      "source": [
        "model.predict(X_train).shape"
      ]
    },
    {
      "cell_type": "code",
      "execution_count": 27,
      "metadata": {
        "colab": {
          "base_uri": "https://localhost:8080/",
          "height": 963
        },
        "id": "ZW9jF-bQFiQZ",
        "outputId": "c0fe64f5-80ed-4940-a145-8daeb4216880"
      },
      "outputs": [
        {
          "name": "stdout",
          "output_type": "stream",
          "text": [
            "\u001b[1m7/7\u001b[0m \u001b[32m━━━━━━━━━━━━━━━━━━━━\u001b[0m\u001b[37m\u001b[0m \u001b[1m0s\u001b[0m 4ms/step \n"
          ]
        },
        {
          "data": {
            "image/png": "[encoded data removed]",
            "text/plain": [
              "<Figure size 640x480 with 2 Axes>"
            ]
          },
          "metadata": {},
          "output_type": "display_data"
        },
        {
          "name": "stdout",
          "output_type": "stream",
          "text": [
            "\u001b[1m2/2\u001b[0m \u001b[32m━━━━━━━━━━━━━━━━━━━━\u001b[0m\u001b[37m\u001b[0m \u001b[1m0s\u001b[0m 20ms/step\n"
          ]
        },
        {
          "data": {
            "image/png": "[encoded data removed]",
            "text/plain": [
              "<Figure size 640x480 with 2 Axes>"
            ]
          },
          "metadata": {},
          "output_type": "display_data"
        }
      ],
      "source": [
        "from sklearn.metrics import confusion_matrix, ConfusionMatrixDisplay\n",
        "\n",
        "# Para TRAIN\n",
        "y_pred_train = np.argmax(model.predict(X_train),axis=1)\n",
        "cm_train = confusion_matrix(y_train, y_pred_train)\n",
        "\n",
        "disp_train = ConfusionMatrixDisplay(confusion_matrix=cm_train)\n",
        "disp_train.plot()\n",
        "plt.title(\"Matriz de Confusión - Entrenamiento\")\n",
        "plt.show()\n",
        "\n",
        "# Para TEST\n",
        "y_pred_test = np.argmax(model.predict(X_test), axis=1)\n",
        "cm_test = confusion_matrix(y_test, y_pred_test)\n",
        "\n",
        "disp_test = ConfusionMatrixDisplay(confusion_matrix=cm_test)\n",
        "disp_test.plot()\n",
        "plt.title(\"Matriz de Confusión - Test\")\n",
        "plt.show()"
      ]
    },
    {
      "cell_type": "markdown",
      "metadata": {
        "id": "0lt3DYZ4JsA5"
      },
      "source": [
        "# 3. Cuantización y exportaciṕn al ESP32"
      ]
    },
    {
      "cell_type": "code",
      "execution_count": 31,
      "metadata": {
        "colab": {
          "base_uri": "https://localhost:8080/"
        },
        "id": "2yglrP2aIbV7",
        "outputId": "6f472755-2631-4e71-c3e8-8cac6fc84098"
      },
      "outputs": [
        {
          "name": "stdout",
          "output_type": "stream",
          "text": [
            "Saved artifact at '/tmp/tmps0fa15dz'. The following endpoints are available:\n",
            "\n",
            "* Endpoint 'serve'\n",
            "  args_0 (POSITIONAL_ONLY): TensorSpec(shape=(None, 4018), dtype=tf.float32, name='keras_tensor_30')\n",
            "Output Type:\n",
            "  TensorSpec(shape=(None, 5), dtype=tf.float32, name=None)\n",
            "Captures:\n",
            "  139226002814736: TensorSpec(shape=(), dtype=tf.resource, name=None)\n",
            "  139226002816080: TensorSpec(shape=(), dtype=tf.resource, name=None)\n",
            "  139226002815888: TensorSpec(shape=(), dtype=tf.resource, name=None)\n",
            "  139226002814928: TensorSpec(shape=(), dtype=tf.resource, name=None)\n",
            "  139226002816848: TensorSpec(shape=(), dtype=tf.resource, name=None)\n",
            "  139225926010448: TensorSpec(shape=(), dtype=tf.resource, name=None)\n"
          ]
        },
        {
          "name": "stderr",
          "output_type": "stream",
          "text": [
            "/usr/local/lib/python3.11/dist-packages/tensorflow/lite/python/convert.py:997: UserWarning: Statistics for quantized inputs were expected, but not specified; continuing anyway.\n",
            "  warnings.warn(\n"
          ]
        }
      ],
      "source": [
        "def representative_dataset_gen():\n",
        "    for i in range(100):  # De forma arbitraria se decidió un sampling de 100\n",
        "        sample = X_train[i].astype(np.float32)\n",
        "        sample = np.expand_dims(sample, axis=0)  # shape = (1, 4018)\n",
        "        yield [sample]\n",
        "\n",
        "# Configurar el convertidor\n",
        "converter = tf.lite.TFLiteConverter.from_keras_model(model)\n",
        "converter.optimizations = [tf.lite.Optimize.DEFAULT]\n",
        "\n",
        "# Paso clave: usar la función representativa\n",
        "converter.representative_dataset = representative_dataset_gen\n",
        "\n",
        "# Indicar que todo el modelo debe usar operaciones int8\n",
        "converter.target_spec.supported_ops = [tf.lite.OpsSet.TFLITE_BUILTINS_INT8]\n",
        "\n",
        "# Forzar entrada y salida como int8 (lo que ESP32 espera)\n",
        "converter.inference_input_type = tf.int8\n",
        "converter.inference_output_type = tf.int8\n",
        "\n",
        "# Convertir el modelo\n",
        "tflite_model = converter.convert()\n",
        "\n",
        "# Guardar el modelo\n",
        "with open(\"model_quantized_int8.tflite\", \"wb\") as f:\n",
        "    f.write(tflite_model)"
      ]
    }
  ],
  "metadata": {
    "colab": {
      "provenance": []
    },
    "kernelspec": {
      "display_name": ".venv",
      "language": "python",
      "name": "python3"
    },
    "language_info": {
      "name": "python",
      "version": "3.13.3"
    }
  },
  "nbformat": 4,
  "nbformat_minor": 0
}
