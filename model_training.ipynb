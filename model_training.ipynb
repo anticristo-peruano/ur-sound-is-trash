{
  "cells": [
    {
      "cell_type": "markdown",
      "metadata": {
        "id": "lbtEr9mTJRvE"
      },
      "source": [
        "# 0. Librerías"
      ]
    },
    {
      "cell_type": "code",
      "execution_count": 1,
      "metadata": {
        "id": "-SEAmBKb-d_w"
      },
      "outputs": [
        {
          "name": "stderr",
          "output_type": "stream",
          "text": [
            "2025-06-25 04:44:23.402216: W tensorflow/stream_executor/platform/default/dso_loader.cc:64] Could not load dynamic library 'libcudart.so.11.0'; dlerror: libcudart.so.11.0: cannot open shared object file: No such file or directory\n",
            "2025-06-25 04:44:23.402234: I tensorflow/stream_executor/cuda/cudart_stub.cc:29] Ignore above cudart dlerror if you do not have a GPU set up on your machine.\n"
          ]
        }
      ],
      "source": [
        "import numpy as np\n",
        "import tensorflow as tf\n",
        "from tensorflow.keras.models import Sequential\n",
        "from tensorflow.keras.layers import Conv1D, MaxPooling1D, Dropout, Flatten, Dense, Reshape\n",
        "from tensorflow.keras.optimizers import Adam\n",
        "import matplotlib.pyplot as plt\n",
        "from sklearn.metrics import confusion_matrix, ConfusionMatrixDisplay"
      ]
    },
    {
      "cell_type": "markdown",
      "metadata": {
        "id": "1FjStZdCJbQr"
      },
      "source": [
        "# 1. Preparación de datos (ya preprocesados) y de parámetros"
      ]
    },
    {
      "cell_type": "code",
      "execution_count": 3,
      "metadata": {
        "id": "GVnI-OkKCQd_"
      },
      "outputs": [],
      "source": [
        "X_train, X_test = np.load('data/x_training.npy'), np.load('data/x_testing.npy')\n",
        "y_train, y_test = np.load('data/y_training.npy')[:,0] - 1, np.load('data/y_testing.npy')[:,0] - 1\n",
        "\n",
        "\"\"\"\n",
        "0 = Bottle\n",
        "1 = Can\n",
        "2 = Noise\n",
        "3 = Paper\n",
        "4 = Ping-pong\n",
        "\"\"\"\n",
        "\n",
        "INPUT_LENGTH = 4018\n",
        "NUM_CLASSES = 5\n",
        "LEARNING_RATE = 0.005"
      ]
    },
    {
      "cell_type": "markdown",
      "metadata": {
        "id": "0OGNjH_mJk0v"
      },
      "source": [
        "# 2. Architectura del modelo y entrenamiento"
      ]
    },
    {
      "cell_type": "code",
      "execution_count": 4,
      "metadata": {
        "colab": {
          "base_uri": "https://localhost:8080/",
          "height": 498
        },
        "id": "HLvGg3W3Bkkp",
        "outputId": "5436a2be-2328-4d37-f9f9-c5af0f82e991"
      },
      "outputs": [
        {
          "name": "stdout",
          "output_type": "stream",
          "text": [
            "Model: \"sequential\"\n",
            "_________________________________________________________________\n",
            " Layer (type)                Output Shape              Param #   \n",
            "=================================================================\n",
            " reshape (Reshape)           (None, 98, 41)            0         \n",
            "                                                                 \n",
            " conv1d (Conv1D)             (None, 98, 8)             992       \n",
            "                                                                 \n",
            " max_pooling1d (MaxPooling1D  (None, 49, 8)            0         \n",
            " )                                                               \n",
            "                                                                 \n",
            " dropout (Dropout)           (None, 49, 8)             0         \n",
            "                                                                 \n",
            " conv1d_1 (Conv1D)           (None, 49, 16)            400       \n",
            "                                                                 \n",
            " max_pooling1d_1 (MaxPooling  (None, 25, 16)           0         \n",
            " 1D)                                                             \n",
            "                                                                 \n",
            " dropout_1 (Dropout)         (None, 25, 16)            0         \n",
            "                                                                 \n",
            " flatten (Flatten)           (None, 400)               0         \n",
            "                                                                 \n",
            " y_pred (Dense)              (None, 5)                 2005      \n",
            "                                                                 \n",
            "=================================================================\n",
            "Total params: 3,397\n",
            "Trainable params: 3,397\n",
            "Non-trainable params: 0\n",
            "_________________________________________________________________\n"
          ]
        },
        {
          "name": "stderr",
          "output_type": "stream",
          "text": [
            "2025-06-25 04:45:10.439334: I tensorflow/stream_executor/cuda/cuda_gpu_executor.cc:939] successful NUMA node read from SysFS had negative value (-1), but there must be at least one NUMA node, so returning NUMA node zero\n",
            "2025-06-25 04:45:10.441928: W tensorflow/stream_executor/platform/default/dso_loader.cc:64] Could not load dynamic library 'libcudart.so.11.0'; dlerror: libcudart.so.11.0: cannot open shared object file: No such file or directory\n",
            "2025-06-25 04:45:10.442007: W tensorflow/stream_executor/platform/default/dso_loader.cc:64] Could not load dynamic library 'libcublas.so.11'; dlerror: libcublas.so.11: cannot open shared object file: No such file or directory\n",
            "2025-06-25 04:45:10.442063: W tensorflow/stream_executor/platform/default/dso_loader.cc:64] Could not load dynamic library 'libcublasLt.so.11'; dlerror: libcublasLt.so.11: cannot open shared object file: No such file or directory\n",
            "2025-06-25 04:45:10.442118: W tensorflow/stream_executor/platform/default/dso_loader.cc:64] Could not load dynamic library 'libcufft.so.10'; dlerror: libcufft.so.10: cannot open shared object file: No such file or directory\n",
            "2025-06-25 04:45:10.901742: W tensorflow/stream_executor/platform/default/dso_loader.cc:64] Could not load dynamic library 'libcusparse.so.11'; dlerror: libcusparse.so.11: cannot open shared object file: No such file or directory\n",
            "2025-06-25 04:45:10.901821: W tensorflow/stream_executor/platform/default/dso_loader.cc:64] Could not load dynamic library 'libcudnn.so.8'; dlerror: libcudnn.so.8: cannot open shared object file: No such file or directory\n",
            "2025-06-25 04:45:10.901833: W tensorflow/core/common_runtime/gpu/gpu_device.cc:1850] Cannot dlopen some GPU libraries. Please make sure the missing libraries mentioned above are installed properly if you would like to use GPU. Follow the guide at https://www.tensorflow.org/install/gpu for how to download and setup the required libraries for your platform.\n",
            "Skipping registering GPU devices...\n",
            "2025-06-25 04:45:10.902485: I tensorflow/core/platform/cpu_feature_guard.cc:151] This TensorFlow binary is optimized with oneAPI Deep Neural Network Library (oneDNN) to use the following CPU instructions in performance-critical operations:  AVX2 FMA\n",
            "To enable them in other operations, rebuild TensorFlow with the appropriate compiler flags.\n"
          ]
        }
      ],
      "source": [
        "model = Sequential([\n",
        "    Reshape((98, 41), input_shape=(INPUT_LENGTH,)),\n",
        "    Conv1D(8, kernel_size=3, padding='same', activation='relu'),\n",
        "    MaxPooling1D(pool_size=2, strides=2, padding='same'),\n",
        "    Dropout(0.25),\n",
        "    Conv1D(16, kernel_size=3, padding='same', activation='relu'),\n",
        "    MaxPooling1D(pool_size=2, strides=2, padding='same'),\n",
        "    Dropout(0.25),\n",
        "    Flatten(),\n",
        "    Dense(NUM_CLASSES, activation='softmax', name='y_pred')\n",
        "])\n",
        "\n",
        "model.compile(\n",
        "    optimizer=Adam(learning_rate=LEARNING_RATE),\n",
        "    loss='sparse_categorical_crossentropy',\n",
        "    metrics=['accuracy']\n",
        ")\n",
        "\n",
        "model.summary()"
      ]
    },
    {
      "cell_type": "code",
      "execution_count": 5,
      "metadata": {
        "colab": {
          "base_uri": "https://localhost:8080/"
        },
        "id": "hMyYm6xvB4kR",
        "outputId": "7e2823af-0102-4ae9-c521-92dc72a1feb5"
      },
      "outputs": [
        {
          "name": "stdout",
          "output_type": "stream",
          "text": [
            "Epoch 1/100\n",
            "7/7 - 0s - loss: 1.5551 - accuracy: 0.2591 - 291ms/epoch - 42ms/step\n",
            "Epoch 2/100\n",
            "7/7 - 0s - loss: 1.3462 - accuracy: 0.3545 - 12ms/epoch - 2ms/step\n",
            "Epoch 3/100\n",
            "7/7 - 0s - loss: 1.1128 - accuracy: 0.5182 - 12ms/epoch - 2ms/step\n",
            "Epoch 4/100\n",
            "7/7 - 0s - loss: 0.8451 - accuracy: 0.6182 - 12ms/epoch - 2ms/step\n",
            "Epoch 5/100\n",
            "7/7 - 0s - loss: 0.6666 - accuracy: 0.7682 - 12ms/epoch - 2ms/step\n",
            "Epoch 6/100\n",
            "7/7 - 0s - loss: 0.5647 - accuracy: 0.7636 - 11ms/epoch - 2ms/step\n",
            "Epoch 7/100\n",
            "7/7 - 0s - loss: 0.5632 - accuracy: 0.7682 - 11ms/epoch - 2ms/step\n",
            "Epoch 8/100\n",
            "7/7 - 0s - loss: 0.4007 - accuracy: 0.8500 - 11ms/epoch - 2ms/step\n",
            "Epoch 9/100\n",
            "7/7 - 0s - loss: 0.2840 - accuracy: 0.9136 - 10ms/epoch - 1ms/step\n",
            "Epoch 10/100\n",
            "7/7 - 0s - loss: 0.2689 - accuracy: 0.9182 - 12ms/epoch - 2ms/step\n",
            "Epoch 11/100\n",
            "7/7 - 0s - loss: 0.2988 - accuracy: 0.9045 - 12ms/epoch - 2ms/step\n",
            "Epoch 12/100\n",
            "7/7 - 0s - loss: 0.2473 - accuracy: 0.9045 - 12ms/epoch - 2ms/step\n",
            "Epoch 13/100\n",
            "7/7 - 0s - loss: 0.2432 - accuracy: 0.9182 - 11ms/epoch - 2ms/step\n",
            "Epoch 14/100\n",
            "7/7 - 0s - loss: 0.1469 - accuracy: 0.9409 - 10ms/epoch - 1ms/step\n",
            "Epoch 15/100\n",
            "7/7 - 0s - loss: 0.1362 - accuracy: 0.9545 - 11ms/epoch - 2ms/step\n",
            "Epoch 16/100\n",
            "7/7 - 0s - loss: 0.1329 - accuracy: 0.9545 - 11ms/epoch - 2ms/step\n",
            "Epoch 17/100\n",
            "7/7 - 0s - loss: 0.1037 - accuracy: 0.9727 - 10ms/epoch - 1ms/step\n",
            "Epoch 18/100\n",
            "7/7 - 0s - loss: 0.1066 - accuracy: 0.9682 - 10ms/epoch - 1ms/step\n",
            "Epoch 19/100\n",
            "7/7 - 0s - loss: 0.2130 - accuracy: 0.9182 - 11ms/epoch - 2ms/step\n",
            "Epoch 20/100\n",
            "7/7 - 0s - loss: 0.2356 - accuracy: 0.9000 - 11ms/epoch - 2ms/step\n",
            "Epoch 21/100\n",
            "7/7 - 0s - loss: 0.1588 - accuracy: 0.9364 - 14ms/epoch - 2ms/step\n",
            "Epoch 22/100\n",
            "7/7 - 0s - loss: 0.1611 - accuracy: 0.9455 - 11ms/epoch - 2ms/step\n",
            "Epoch 23/100\n",
            "7/7 - 0s - loss: 0.1312 - accuracy: 0.9545 - 11ms/epoch - 2ms/step\n",
            "Epoch 24/100\n",
            "7/7 - 0s - loss: 0.1020 - accuracy: 0.9818 - 11ms/epoch - 2ms/step\n",
            "Epoch 25/100\n",
            "7/7 - 0s - loss: 0.1887 - accuracy: 0.9364 - 11ms/epoch - 2ms/step\n",
            "Epoch 26/100\n",
            "7/7 - 0s - loss: 0.0804 - accuracy: 0.9682 - 11ms/epoch - 2ms/step\n",
            "Epoch 27/100\n",
            "7/7 - 0s - loss: 0.0753 - accuracy: 0.9682 - 11ms/epoch - 2ms/step\n",
            "Epoch 28/100\n",
            "7/7 - 0s - loss: 0.0600 - accuracy: 0.9864 - 11ms/epoch - 2ms/step\n",
            "Epoch 29/100\n",
            "7/7 - 0s - loss: 0.0854 - accuracy: 0.9591 - 11ms/epoch - 2ms/step\n",
            "Epoch 30/100\n",
            "7/7 - 0s - loss: 0.0594 - accuracy: 0.9864 - 11ms/epoch - 2ms/step\n",
            "Epoch 31/100\n",
            "7/7 - 0s - loss: 0.0657 - accuracy: 0.9864 - 11ms/epoch - 2ms/step\n",
            "Epoch 32/100\n",
            "7/7 - 0s - loss: 0.0582 - accuracy: 0.9818 - 11ms/epoch - 2ms/step\n",
            "Epoch 33/100\n",
            "7/7 - 0s - loss: 0.0491 - accuracy: 0.9864 - 13ms/epoch - 2ms/step\n",
            "Epoch 34/100\n",
            "7/7 - 0s - loss: 0.0463 - accuracy: 0.9909 - 10ms/epoch - 1ms/step\n",
            "Epoch 35/100\n",
            "7/7 - 0s - loss: 0.0400 - accuracy: 0.9864 - 11ms/epoch - 2ms/step\n",
            "Epoch 36/100\n",
            "7/7 - 0s - loss: 0.0220 - accuracy: 0.9955 - 11ms/epoch - 2ms/step\n",
            "Epoch 37/100\n",
            "7/7 - 0s - loss: 0.0242 - accuracy: 0.9955 - 10ms/epoch - 1ms/step\n",
            "Epoch 38/100\n",
            "7/7 - 0s - loss: 0.0417 - accuracy: 0.9909 - 11ms/epoch - 2ms/step\n",
            "Epoch 39/100\n",
            "7/7 - 0s - loss: 0.0616 - accuracy: 0.9773 - 12ms/epoch - 2ms/step\n",
            "Epoch 40/100\n",
            "7/7 - 0s - loss: 0.0354 - accuracy: 0.9864 - 11ms/epoch - 2ms/step\n",
            "Epoch 41/100\n",
            "7/7 - 0s - loss: 0.0438 - accuracy: 0.9864 - 12ms/epoch - 2ms/step\n",
            "Epoch 42/100\n",
            "7/7 - 0s - loss: 0.0467 - accuracy: 0.9864 - 10ms/epoch - 1ms/step\n",
            "Epoch 43/100\n",
            "7/7 - 0s - loss: 0.0553 - accuracy: 0.9773 - 11ms/epoch - 2ms/step\n",
            "Epoch 44/100\n",
            "7/7 - 0s - loss: 0.0466 - accuracy: 0.9773 - 12ms/epoch - 2ms/step\n",
            "Epoch 45/100\n",
            "7/7 - 0s - loss: 0.0599 - accuracy: 0.9818 - 11ms/epoch - 2ms/step\n",
            "Epoch 46/100\n",
            "7/7 - 0s - loss: 0.0298 - accuracy: 0.9909 - 11ms/epoch - 2ms/step\n",
            "Epoch 47/100\n",
            "7/7 - 0s - loss: 0.0425 - accuracy: 0.9864 - 11ms/epoch - 2ms/step\n",
            "Epoch 48/100\n",
            "7/7 - 0s - loss: 0.0479 - accuracy: 0.9864 - 11ms/epoch - 2ms/step\n",
            "Epoch 49/100\n",
            "7/7 - 0s - loss: 0.0502 - accuracy: 0.9909 - 10ms/epoch - 1ms/step\n",
            "Epoch 50/100\n",
            "7/7 - 0s - loss: 0.0215 - accuracy: 1.0000 - 10ms/epoch - 1ms/step\n",
            "Epoch 51/100\n",
            "7/7 - 0s - loss: 0.0313 - accuracy: 0.9864 - 11ms/epoch - 2ms/step\n",
            "Epoch 52/100\n",
            "7/7 - 0s - loss: 0.0278 - accuracy: 0.9864 - 11ms/epoch - 2ms/step\n",
            "Epoch 53/100\n",
            "7/7 - 0s - loss: 0.0271 - accuracy: 0.9909 - 11ms/epoch - 2ms/step\n",
            "Epoch 54/100\n",
            "7/7 - 0s - loss: 0.0225 - accuracy: 0.9955 - 11ms/epoch - 2ms/step\n",
            "Epoch 55/100\n",
            "7/7 - 0s - loss: 0.0114 - accuracy: 0.9955 - 11ms/epoch - 2ms/step\n",
            "Epoch 56/100\n",
            "7/7 - 0s - loss: 0.0223 - accuracy: 0.9955 - 11ms/epoch - 2ms/step\n",
            "Epoch 57/100\n",
            "7/7 - 0s - loss: 0.0210 - accuracy: 0.9909 - 11ms/epoch - 2ms/step\n",
            "Epoch 58/100\n",
            "7/7 - 0s - loss: 0.0165 - accuracy: 0.9909 - 11ms/epoch - 2ms/step\n",
            "Epoch 59/100\n",
            "7/7 - 0s - loss: 0.0197 - accuracy: 0.9955 - 11ms/epoch - 2ms/step\n",
            "Epoch 60/100\n",
            "7/7 - 0s - loss: 0.0162 - accuracy: 0.9955 - 11ms/epoch - 2ms/step\n",
            "Epoch 61/100\n",
            "7/7 - 0s - loss: 0.0208 - accuracy: 0.9909 - 10ms/epoch - 1ms/step\n",
            "Epoch 62/100\n",
            "7/7 - 0s - loss: 0.0133 - accuracy: 0.9955 - 11ms/epoch - 2ms/step\n",
            "Epoch 63/100\n",
            "7/7 - 0s - loss: 0.0484 - accuracy: 0.9773 - 11ms/epoch - 2ms/step\n",
            "Epoch 64/100\n",
            "7/7 - 0s - loss: 0.0311 - accuracy: 0.9864 - 11ms/epoch - 2ms/step\n",
            "Epoch 65/100\n",
            "7/7 - 0s - loss: 0.0200 - accuracy: 0.9955 - 11ms/epoch - 2ms/step\n",
            "Epoch 66/100\n",
            "7/7 - 0s - loss: 0.0465 - accuracy: 0.9864 - 12ms/epoch - 2ms/step\n",
            "Epoch 67/100\n",
            "7/7 - 0s - loss: 0.0395 - accuracy: 0.9864 - 11ms/epoch - 2ms/step\n",
            "Epoch 68/100\n",
            "7/7 - 0s - loss: 0.0362 - accuracy: 0.9909 - 10ms/epoch - 1ms/step\n",
            "Epoch 69/100\n",
            "7/7 - 0s - loss: 0.0236 - accuracy: 0.9955 - 11ms/epoch - 2ms/step\n",
            "Epoch 70/100\n",
            "7/7 - 0s - loss: 0.0154 - accuracy: 0.9955 - 11ms/epoch - 2ms/step\n",
            "Epoch 71/100\n",
            "7/7 - 0s - loss: 0.0617 - accuracy: 0.9682 - 11ms/epoch - 2ms/step\n",
            "Epoch 72/100\n",
            "7/7 - 0s - loss: 0.0627 - accuracy: 0.9727 - 10ms/epoch - 1ms/step\n",
            "Epoch 73/100\n",
            "7/7 - 0s - loss: 0.0796 - accuracy: 0.9773 - 11ms/epoch - 2ms/step\n",
            "Epoch 74/100\n",
            "7/7 - 0s - loss: 0.0148 - accuracy: 1.0000 - 12ms/epoch - 2ms/step\n",
            "Epoch 75/100\n",
            "7/7 - 0s - loss: 0.0417 - accuracy: 0.9864 - 11ms/epoch - 2ms/step\n",
            "Epoch 76/100\n",
            "7/7 - 0s - loss: 0.0341 - accuracy: 0.9818 - 12ms/epoch - 2ms/step\n",
            "Epoch 77/100\n",
            "7/7 - 0s - loss: 0.0329 - accuracy: 0.9864 - 11ms/epoch - 2ms/step\n",
            "Epoch 78/100\n",
            "7/7 - 0s - loss: 0.0205 - accuracy: 0.9909 - 12ms/epoch - 2ms/step\n",
            "Epoch 79/100\n",
            "7/7 - 0s - loss: 0.0431 - accuracy: 0.9773 - 11ms/epoch - 2ms/step\n",
            "Epoch 80/100\n",
            "7/7 - 0s - loss: 0.0511 - accuracy: 0.9773 - 12ms/epoch - 2ms/step\n",
            "Epoch 81/100\n",
            "7/7 - 0s - loss: 0.1072 - accuracy: 0.9545 - 11ms/epoch - 2ms/step\n",
            "Epoch 82/100\n",
            "7/7 - 0s - loss: 0.0431 - accuracy: 0.9864 - 11ms/epoch - 2ms/step\n",
            "Epoch 83/100\n",
            "7/7 - 0s - loss: 0.0331 - accuracy: 0.9818 - 11ms/epoch - 2ms/step\n",
            "Epoch 84/100\n",
            "7/7 - 0s - loss: 0.0499 - accuracy: 0.9864 - 11ms/epoch - 2ms/step\n",
            "Epoch 85/100\n",
            "7/7 - 0s - loss: 0.0081 - accuracy: 1.0000 - 12ms/epoch - 2ms/step\n",
            "Epoch 86/100\n",
            "7/7 - 0s - loss: 0.0198 - accuracy: 0.9955 - 11ms/epoch - 2ms/step\n",
            "Epoch 87/100\n",
            "7/7 - 0s - loss: 0.0222 - accuracy: 0.9909 - 11ms/epoch - 2ms/step\n",
            "Epoch 88/100\n",
            "7/7 - 0s - loss: 0.0099 - accuracy: 0.9955 - 10ms/epoch - 1ms/step\n",
            "Epoch 89/100\n",
            "7/7 - 0s - loss: 0.0309 - accuracy: 0.9864 - 11ms/epoch - 2ms/step\n",
            "Epoch 90/100\n",
            "7/7 - 0s - loss: 0.0293 - accuracy: 0.9909 - 11ms/epoch - 2ms/step\n",
            "Epoch 91/100\n",
            "7/7 - 0s - loss: 0.0233 - accuracy: 0.9955 - 10ms/epoch - 1ms/step\n",
            "Epoch 92/100\n",
            "7/7 - 0s - loss: 0.0444 - accuracy: 0.9773 - 10ms/epoch - 1ms/step\n",
            "Epoch 93/100\n",
            "7/7 - 0s - loss: 0.0884 - accuracy: 0.9636 - 12ms/epoch - 2ms/step\n",
            "Epoch 94/100\n",
            "7/7 - 0s - loss: 0.0436 - accuracy: 0.9818 - 10ms/epoch - 1ms/step\n",
            "Epoch 95/100\n",
            "7/7 - 0s - loss: 0.0496 - accuracy: 0.9727 - 10ms/epoch - 1ms/step\n",
            "Epoch 96/100\n",
            "7/7 - 0s - loss: 0.0289 - accuracy: 0.9909 - 11ms/epoch - 2ms/step\n",
            "Epoch 97/100\n",
            "7/7 - 0s - loss: 0.0230 - accuracy: 0.9955 - 11ms/epoch - 2ms/step\n",
            "Epoch 98/100\n",
            "7/7 - 0s - loss: 0.0127 - accuracy: 0.9955 - 10ms/epoch - 1ms/step\n",
            "Epoch 99/100\n",
            "7/7 - 0s - loss: 0.0127 - accuracy: 0.9955 - 10ms/epoch - 1ms/step\n",
            "Epoch 100/100\n",
            "7/7 - 0s - loss: 0.0057 - accuracy: 1.0000 - 11ms/epoch - 2ms/step\n"
          ]
        }
      ],
      "source": [
        "history = model.fit(X_train,y_train, epochs=100, batch_size=32, verbose=2)"
      ]
    },
    {
      "cell_type": "code",
      "execution_count": 6,
      "metadata": {
        "colab": {
          "base_uri": "https://localhost:8080/",
          "height": 472
        },
        "id": "DOnbbEP3FeB6",
        "outputId": "dc06bee0-9910-4372-87f9-7c6342448a50"
      },
      "outputs": [
        {
          "data": {
            "image/png": "[encoded data removed]",
            "text/plain": [
              "<Figure size 640x480 with 1 Axes>"
            ]
          },
          "metadata": {},
          "output_type": "display_data"
        }
      ],
      "source": [
        "plt.plot(history.history['loss'], label='train_loss')\n",
        "plt.xlabel('Epoch')\n",
        "plt.ylabel('Loss')\n",
        "plt.legend()\n",
        "plt.title('Pérdida de entrenamiento y validación')\n",
        "plt.grid(True)\n",
        "plt.show()"
      ]
    },
    {
      "cell_type": "code",
      "execution_count": 7,
      "metadata": {
        "colab": {
          "base_uri": "https://localhost:8080/"
        },
        "id": "fmZQ3kHJH9TV",
        "outputId": "12360ef9-2ee4-4cf2-8a82-2efa1eba1691"
      },
      "outputs": [
        {
          "data": {
            "text/plain": [
              "(220, 5)"
            ]
          },
          "execution_count": 7,
          "metadata": {},
          "output_type": "execute_result"
        }
      ],
      "source": [
        "model.predict(X_train).shape"
      ]
    },
    {
      "cell_type": "code",
      "execution_count": 8,
      "metadata": {
        "colab": {
          "base_uri": "https://localhost:8080/",
          "height": 963
        },
        "id": "ZW9jF-bQFiQZ",
        "outputId": "c0fe64f5-80ed-4940-a145-8daeb4216880"
      },
      "outputs": [
        {
          "data": {
            "image/png": "[encoded data removed]",
            "text/plain": [
              "<Figure size 640x480 with 2 Axes>"
            ]
          },
          "metadata": {},
          "output_type": "display_data"
        },
        {
          "data": {
            "image/png": "[encoded data removed]",
            "text/plain": [
              "<Figure size 640x480 with 2 Axes>"
            ]
          },
          "metadata": {},
          "output_type": "display_data"
        }
      ],
      "source": [
        "from sklearn.metrics import confusion_matrix, ConfusionMatrixDisplay\n",
        "\n",
        "# Para TRAIN\n",
        "y_pred_train = np.argmax(model.predict(X_train),axis=1)\n",
        "cm_train = confusion_matrix(y_train, y_pred_train)\n",
        "\n",
        "disp_train = ConfusionMatrixDisplay(confusion_matrix=cm_train)\n",
        "disp_train.plot()\n",
        "plt.title(\"Matriz de Confusión - Entrenamiento\")\n",
        "plt.show()\n",
        "\n",
        "# Para TEST\n",
        "y_pred_test = np.argmax(model.predict(X_test), axis=1)\n",
        "cm_test = confusion_matrix(y_test, y_pred_test)\n",
        "\n",
        "disp_test = ConfusionMatrixDisplay(confusion_matrix=cm_test)\n",
        "disp_test.plot()\n",
        "plt.title(\"Matriz de Confusión - Test\")\n",
        "plt.show()"
      ]
    },
    {
      "cell_type": "markdown",
      "metadata": {
        "id": "0lt3DYZ4JsA5"
      },
      "source": [
        "# 3. Cuantización y exportaciṕn al ESP32"
      ]
    },
    {
      "cell_type": "code",
      "execution_count": 9,
      "metadata": {
        "colab": {
          "base_uri": "https://localhost:8080/"
        },
        "id": "2yglrP2aIbV7",
        "outputId": "6f472755-2631-4e71-c3e8-8cac6fc84098"
      },
      "outputs": [
        {
          "name": "stderr",
          "output_type": "stream",
          "text": [
            "2025-06-25 04:46:34.913528: W tensorflow/python/util/util.cc:368] Sets are not currently considered sequences, but this may change in the future, so consider avoiding using them.\n"
          ]
        },
        {
          "name": "stdout",
          "output_type": "stream",
          "text": [
            "INFO:tensorflow:Assets written to: /tmp/tmp2rks_0yq/assets\n"
          ]
        },
        {
          "name": "stderr",
          "output_type": "stream",
          "text": [
            "2025-06-25 04:46:35.575980: W tensorflow/compiler/mlir/lite/python/tf_tfl_flatbuffer_helpers.cc:363] Ignored output_format.\n",
            "2025-06-25 04:46:35.576001: W tensorflow/compiler/mlir/lite/python/tf_tfl_flatbuffer_helpers.cc:366] Ignored drop_control_dependency.\n",
            "2025-06-25 04:46:35.576439: I tensorflow/cc/saved_model/reader.cc:43] Reading SavedModel from: /tmp/tmp2rks_0yq\n",
            "2025-06-25 04:46:35.577757: I tensorflow/cc/saved_model/reader.cc:107] Reading meta graph with tags { serve }\n",
            "2025-06-25 04:46:35.577771: I tensorflow/cc/saved_model/reader.cc:148] Reading SavedModel debug info (if present) from: /tmp/tmp2rks_0yq\n",
            "2025-06-25 04:46:35.583553: I tensorflow/cc/saved_model/loader.cc:210] Restoring SavedModel bundle.\n",
            "2025-06-25 04:46:35.606321: I tensorflow/cc/saved_model/loader.cc:194] Running initialization op on SavedModel bundle at path: /tmp/tmp2rks_0yq\n",
            "2025-06-25 04:46:35.614978: I tensorflow/cc/saved_model/loader.cc:283] SavedModel load for tags { serve }; Status: success: OK. Took 38541 microseconds.\n",
            "2025-06-25 04:46:35.626987: I tensorflow/compiler/mlir/tensorflow/utils/dump_mlir_util.cc:237] disabling MLIR crash reproducer, set env var `MLIR_CRASH_REPRODUCER_DIRECTORY` to enable.\n",
            "fully_quantize: 0, inference_type: 6, input_inference_type: 9, output_inference_type: 9\n"
          ]
        }
      ],
      "source": [
        "def representative_dataset_gen():\n",
        "    for i in range(100):  # De forma arbitraria se decidió un sampling de 100\n",
        "        sample = X_train[i].astype(np.float32)\n",
        "        sample = np.expand_dims(sample, axis=0)  # shape = (1, 4018)\n",
        "        yield [sample]\n",
        "\n",
        "# Configurar el convertidor\n",
        "converter = tf.lite.TFLiteConverter.from_keras_model(model)\n",
        "converter.optimizations = [tf.lite.Optimize.DEFAULT]\n",
        "\n",
        "# Paso clave: usar la función representativa\n",
        "converter.representative_dataset = representative_dataset_gen\n",
        "\n",
        "# Indicar que todo el modelo debe usar operaciones int8\n",
        "converter.target_spec.supported_ops = [tf.lite.OpsSet.TFLITE_BUILTINS_INT8]\n",
        "\n",
        "# Forzar entrada y salida como int8 (lo que ESP32 espera)\n",
        "converter.inference_input_type = tf.int8\n",
        "converter.inference_output_type = tf.int8\n",
        "\n",
        "# Convertir el modelo\n",
        "tflite_model = converter.convert()\n",
        "\n",
        "# Guardar el modelo\n",
        "with open(\"model_quantized_int8.tflite\", \"wb\") as f:\n",
        "    f.write(tflite_model)"
      ]
    }
  ],
  "metadata": {
    "colab": {
      "provenance": []
    },
    "kernelspec": {
      "display_name": ".tfenv",
      "language": "python",
      "name": "python3"
    },
    "language_info": {
      "codemirror_mode": {
        "name": "ipython",
        "version": 3
      },
      "file_extension": ".py",
      "mimetype": "text/x-python",
      "name": "python",
      "nbconvert_exporter": "python",
      "pygments_lexer": "ipython3",
      "version": "3.8.20"
    }
  },
  "nbformat": 4,
  "nbformat_minor": 0
}
