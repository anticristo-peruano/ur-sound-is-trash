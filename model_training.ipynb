{
  "cells": [
    {
      "cell_type": "markdown",
      "metadata": {
        "id": "lbtEr9mTJRvE"
      },
      "source": [
        "# 0. Librerías"
      ]
    },
    {
      "cell_type": "code",
      "execution_count": 49,
      "metadata": {
        "id": "-SEAmBKb-d_w"
      },
      "outputs": [],
      "source": [
        "import numpy as np\n",
        "import tensorflow as tf\n",
        "from tensorflow.keras.models import Sequential\n",
        "from tensorflow.keras.layers import Conv1D, MaxPooling1D, Dropout, Flatten, Dense, Reshape\n",
        "from tensorflow.keras.optimizers import Adam\n",
        "import matplotlib.pyplot as plt\n",
        "from sklearn.metrics import confusion_matrix, ConfusionMatrixDisplay\n",
        "from sklearn.model_selection import train_test_split\n",
        "from sklearn.utils import shuffle"
      ]
    },
    {
      "cell_type": "markdown",
      "metadata": {
        "id": "1FjStZdCJbQr"
      },
      "source": [
        "# 1. Preparación de datos (ya preprocesados) y de parámetros"
      ]
    },
    {
      "cell_type": "code",
      "execution_count": 50,
      "metadata": {
        "id": "GVnI-OkKCQd_"
      },
      "outputs": [],
      "source": [
        "X = np.concatenate((np.load('data/x_training.npy'), np.load('data/x_testing.npy')), axis=0)\n",
        "y = np.concatenate((np.load('data/y_training.npy')[:,0], np.load('data/y_testing.npy')[:,0]), axis=0) - 1  # clases de 0 a 4\n",
        "\n",
        "X, y = shuffle(X, y, random_state=42)\n",
        "X_temp, X_test, y_temp, y_test = train_test_split(X, y, test_size=0.2, stratify=y, random_state=42)\n",
        "X_train, X_val, y_train, y_val = train_test_split(X_temp, y_temp, test_size=0.2, stratify=y_temp, random_state=42)\n",
        "\n",
        "\n",
        "\"\"\"\n",
        "0 = Bottle\n",
        "1 = Can\n",
        "2 = Noise\n",
        "3 = Paper\n",
        "4 = Ping-pong\n",
        "\"\"\"\n",
        "\n",
        "INPUT_LENGTH = 4018\n",
        "NUM_CLASSES = 5\n",
        "LEARNING_RATE = 0.005"
      ]
    },
    {
      "cell_type": "markdown",
      "metadata": {
        "id": "0OGNjH_mJk0v"
      },
      "source": [
        "# 2. Architectura del modelo y entrenamiento"
      ]
    },
    {
      "cell_type": "code",
      "execution_count": 51,
      "metadata": {
        "colab": {
          "base_uri": "https://localhost:8080/",
          "height": 498
        },
        "id": "HLvGg3W3Bkkp",
        "outputId": "5436a2be-2328-4d37-f9f9-c5af0f82e991"
      },
      "outputs": [
        {
          "name": "stdout",
          "output_type": "stream",
          "text": [
            "Model: \"sequential_6\"\n",
            "_________________________________________________________________\n",
            " Layer (type)                Output Shape              Param #   \n",
            "=================================================================\n",
            " reshape_6 (Reshape)         (None, 98, 41)            0         \n",
            "                                                                 \n",
            " conv1d_12 (Conv1D)          (None, 98, 8)             992       \n",
            "                                                                 \n",
            " max_pooling1d_12 (MaxPoolin  (None, 49, 8)            0         \n",
            " g1D)                                                            \n",
            "                                                                 \n",
            " dropout_12 (Dropout)        (None, 49, 8)             0         \n",
            "                                                                 \n",
            " conv1d_13 (Conv1D)          (None, 49, 16)            400       \n",
            "                                                                 \n",
            " max_pooling1d_13 (MaxPoolin  (None, 25, 16)           0         \n",
            " g1D)                                                            \n",
            "                                                                 \n",
            " dropout_13 (Dropout)        (None, 25, 16)            0         \n",
            "                                                                 \n",
            " flatten_6 (Flatten)         (None, 400)               0         \n",
            "                                                                 \n",
            " y_pred (Dense)              (None, 5)                 2005      \n",
            "                                                                 \n",
            "=================================================================\n",
            "Total params: 3,397\n",
            "Trainable params: 3,397\n",
            "Non-trainable params: 0\n",
            "_________________________________________________________________\n"
          ]
        }
      ],
      "source": [
        "model = Sequential([\n",
        "    Reshape((98, 41), input_shape=(INPUT_LENGTH,)),\n",
        "    Conv1D(8, kernel_size=3, padding='same', activation='relu'),\n",
        "    MaxPooling1D(pool_size=2, strides=2, padding='same'),\n",
        "    Dropout(0.25),\n",
        "    Conv1D(16, kernel_size=3, padding='same', activation='relu'),\n",
        "    MaxPooling1D(pool_size=2, strides=2, padding='same'),\n",
        "    Dropout(0.25),\n",
        "    Flatten(),\n",
        "    Dense(NUM_CLASSES, activation='softmax', name='y_pred')\n",
        "])\n",
        "\n",
        "model.compile(\n",
        "    optimizer=Adam(learning_rate=LEARNING_RATE),\n",
        "    loss='sparse_categorical_crossentropy',\n",
        "    metrics=['accuracy']\n",
        ")\n",
        "\n",
        "model.summary()"
      ]
    },
    {
      "cell_type": "code",
      "execution_count": null,
      "metadata": {
        "colab": {
          "base_uri": "https://localhost:8080/"
        },
        "id": "hMyYm6xvB4kR",
        "outputId": "7e2823af-0102-4ae9-c521-92dc72a1feb5"
      },
      "outputs": [],
      "source": [
        "history = model.fit(\n",
        "    X_train, y_train,\n",
        "    validation_data=(X_val, y_val),\n",
        "    epochs=200,\n",
        "    batch_size=32,\n",
        "    verbose=2\n",
        ")"
      ]
    },
    {
      "cell_type": "code",
      "execution_count": null,
      "metadata": {
        "colab": {
          "base_uri": "https://localhost:8080/",
          "height": 472
        },
        "id": "DOnbbEP3FeB6",
        "outputId": "dc06bee0-9910-4372-87f9-7c6342448a50"
      },
      "outputs": [],
      "source": [
        "plt.plot(history.history['loss'], label='Train Loss')\n",
        "plt.plot(history.history['val_loss'], label='Validation Loss')\n",
        "plt.xlabel('Epoch')\n",
        "plt.ylabel('Loss')\n",
        "plt.title('Pérdida de Entrenamiento y Validación')\n",
        "plt.legend()\n",
        "plt.grid(True)\n",
        "plt.show()"
      ]
    },
    {
      "cell_type": "code",
      "execution_count": null,
      "metadata": {
        "colab": {
          "base_uri": "https://localhost:8080/",
          "height": 963
        },
        "id": "ZW9jF-bQFiQZ",
        "outputId": "c0fe64f5-80ed-4940-a145-8daeb4216880"
      },
      "outputs": [],
      "source": [
        "# Para TRAIN\n",
        "y_pred_train = np.argmax(model.predict(X_train),axis=1)\n",
        "cm_train = confusion_matrix(y_train, y_pred_train)\n",
        "\n",
        "disp_train = ConfusionMatrixDisplay(confusion_matrix=cm_train)\n",
        "disp_train.plot()\n",
        "plt.title(\"Matriz de Confusión - Entrenamiento\")\n",
        "plt.show()\n",
        "\n",
        "# Para TEST\n",
        "y_pred_test = np.argmax(model.predict(X_test), axis=1)\n",
        "cm_test = confusion_matrix(y_test, y_pred_test)\n",
        "\n",
        "disp_test = ConfusionMatrixDisplay(confusion_matrix=cm_test)\n",
        "disp_test.plot()\n",
        "plt.title(\"Matriz de Confusión - Test\")\n",
        "plt.show()"
      ]
    },
    {
      "cell_type": "markdown",
      "metadata": {
        "id": "0lt3DYZ4JsA5"
      },
      "source": [
        "# 3. Exportación al ESP32"
      ]
    },
    {
      "cell_type": "code",
      "execution_count": 55,
      "metadata": {
        "colab": {
          "base_uri": "https://localhost:8080/"
        },
        "id": "2yglrP2aIbV7",
        "outputId": "6f472755-2631-4e71-c3e8-8cac6fc84098"
      },
      "outputs": [
        {
          "name": "stdout",
          "output_type": "stream",
          "text": [
            "INFO:tensorflow:Assets written to: /tmp/tmp0f1cxnkx/assets\n"
          ]
        },
        {
          "name": "stderr",
          "output_type": "stream",
          "text": [
            "INFO:tensorflow:Assets written to: /tmp/tmp0f1cxnkx/assets\n",
            "2025-06-25 06:44:53.447682: W tensorflow/compiler/mlir/lite/python/tf_tfl_flatbuffer_helpers.cc:363] Ignored output_format.\n",
            "2025-06-25 06:44:53.447701: W tensorflow/compiler/mlir/lite/python/tf_tfl_flatbuffer_helpers.cc:366] Ignored drop_control_dependency.\n",
            "2025-06-25 06:44:53.447832: I tensorflow/cc/saved_model/reader.cc:43] Reading SavedModel from: /tmp/tmp0f1cxnkx\n",
            "2025-06-25 06:44:53.448888: I tensorflow/cc/saved_model/reader.cc:107] Reading meta graph with tags { serve }\n",
            "2025-06-25 06:44:53.448903: I tensorflow/cc/saved_model/reader.cc:148] Reading SavedModel debug info (if present) from: /tmp/tmp0f1cxnkx\n",
            "2025-06-25 06:44:53.452177: I tensorflow/cc/saved_model/loader.cc:210] Restoring SavedModel bundle.\n",
            "2025-06-25 06:44:53.475586: I tensorflow/cc/saved_model/loader.cc:194] Running initialization op on SavedModel bundle at path: /tmp/tmp0f1cxnkx\n",
            "2025-06-25 06:44:53.484068: I tensorflow/cc/saved_model/loader.cc:283] SavedModel load for tags { serve }; Status: success: OK. Took 36236 microseconds.\n"
          ]
        }
      ],
      "source": [
        "converter = tf.lite.TFLiteConverter.from_keras_model(model)\n",
        "tflite_model = converter.convert()\n",
        "\n",
        "# Guardar el modelo\n",
        "with open(\"model_float32.tflite\", \"wb\") as f:\n",
        "    f.write(tflite_model)"
      ]
    }
  ],
  "metadata": {
    "colab": {
      "provenance": []
    },
    "kernelspec": {
      "display_name": ".tfenv",
      "language": "python",
      "name": "python3"
    },
    "language_info": {
      "codemirror_mode": {
        "name": "ipython",
        "version": 3
      },
      "file_extension": ".py",
      "mimetype": "text/x-python",
      "name": "python",
      "nbconvert_exporter": "python",
      "pygments_lexer": "ipython3",
      "version": "3.8.20"
    }
  },
  "nbformat": 4,
  "nbformat_minor": 0
}
